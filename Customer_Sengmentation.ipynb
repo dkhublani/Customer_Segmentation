{
 "cells": [
  {
   "cell_type": "code",
   "execution_count": 9,
   "metadata": {},
   "outputs": [
    {
     "name": "stderr",
     "output_type": "stream",
     "text": [
      "also installing the dependency ‘hms’\n",
      "\n",
      "Updating HTML index of packages in '.Library'\n",
      "Making 'packages.html' ... done\n"
     ]
    }
   ],
   "source": [
    "install.packages('readr')\n",
    "library(readr)"
   ]
  },
  {
   "cell_type": "code",
   "execution_count": null,
   "metadata": {},
   "outputs": [],
   "source": [
    "install.packages('dplyr')"
   ]
  },
  {
   "cell_type": "code",
   "execution_count": 24,
   "metadata": {},
   "outputs": [
    {
     "name": "stderr",
     "output_type": "stream",
     "text": [
      "also installing the dependencies ‘mime’, ‘highr’, ‘markdown’, ‘yaml’\n",
      "\n",
      "Updating HTML index of packages in '.Library'\n",
      "Making 'packages.html' ... done\n"
     ]
    }
   ],
   "source": [
    "install.packages('knitr')\n",
    "library(knitr)"
   ]
  },
  {
   "cell_type": "code",
   "execution_count": 23,
   "metadata": {},
   "outputs": [
    {
     "name": "stderr",
     "output_type": "stream",
     "text": [
      "Parsed with column specification:\n",
      "cols(\n",
      "  bikeshop.id = col_integer(),\n",
      "  bikeshop.name = col_character(),\n",
      "  bikeshop.city = col_character(),\n",
      "  bikeshop.state = col_character(),\n",
      "  latitude = col_double(),\n",
      "  longitude = col_double()\n",
      ")\n",
      "Parsed with column specification:\n",
      "cols(\n",
      "  bike.id = col_integer(),\n",
      "  model = col_character(),\n",
      "  category1 = col_character(),\n",
      "  category2 = col_character(),\n",
      "  frame = col_character(),\n",
      "  price = col_integer()\n",
      ")\n",
      "Warning message:\n",
      "“Missing column names filled in: 'X1' [1]”Parsed with column specification:\n",
      "cols(\n",
      "  X1 = col_integer(),\n",
      "  order.id = col_integer(),\n",
      "  order.line = col_integer(),\n",
      "  order.date = col_character(),\n",
      "  customer.id = col_integer(),\n",
      "  product.id = col_integer(),\n",
      "  quantity = col_integer()\n",
      ")\n"
     ]
    }
   ],
   "source": [
    "customers <- read_csv(\"/home/dupad/Desktop/bikeshops.csv\")\n",
    "products <- read_csv(\"/home/dupad/Desktop/bikes.csv\") \n",
    "orders <- read_csv(\"/home/dupad/Desktop/orders.csv\")"
   ]
  },
  {
   "cell_type": "code",
   "execution_count": 25,
   "metadata": {},
   "outputs": [
    {
     "data": {
      "text/plain": [
       "\n",
       "\n",
       "|order.date | order.id| order.line|bikeshop.name             |model                    | quantity| price| price.extended|category1 |category2     |frame    |\n",
       "|:----------|--------:|----------:|:-------------------------|:------------------------|--------:|-----:|--------------:|:---------|:-------------|:--------|\n",
       "|1/7/2011   |        1|          1|Ithaca Mountain Climbers  |Jekyll Carbon 2          |        1|  6070|           6070|Mountain  |Over Mountain |Carbon   |\n",
       "|1/7/2011   |        1|          2|Ithaca Mountain Climbers  |Trigger Carbon 2         |        1|  5970|           5970|Mountain  |Over Mountain |Carbon   |\n",
       "|1/10/2011  |        2|          1|Kansas City 29ers         |Beast of the East 1      |        1|  2770|           2770|Mountain  |Trail         |Aluminum |\n",
       "|1/10/2011  |        2|          2|Kansas City 29ers         |Trigger Carbon 2         |        1|  5970|           5970|Mountain  |Over Mountain |Carbon   |\n",
       "|1/10/2011  |        3|          1|Louisville Race Equipment |Supersix Evo Hi-Mod Team |        1| 10660|          10660|Road      |Elite Road    |Carbon   |\n",
       "|1/10/2011  |        3|          2|Louisville Race Equipment |Jekyll Carbon 4          |        1|  3200|           3200|Mountain  |Over Mountain |Carbon   |"
      ]
     },
     "metadata": {},
     "output_type": "display_data"
    }
   ],
   "source": [
    "# Combine orders, customers, and products data frames\n",
    "library(dplyr)\n",
    "orders.extended <- merge(orders, customers, by.x = \"customer.id\", by.y=\"bikeshop.id\")\n",
    "orders.extended <- merge(orders.extended, products, by.x = \"product.id\", by.y = \"bike.id\")\n",
    "\n",
    "orders.extended <- orders.extended %>% mutate(price.extended = price * quantity) %>% select(order.date, order.id, order.line, bikeshop.name, model,quantity, price, price.extended, category1, category2, frame) %>% arrange(order.id, order.line)\n",
    "\n",
    "knitr::kable(head(orders.extended)) # Preview the data"
   ]
  },
  {
   "cell_type": "code",
   "execution_count": 26,
   "metadata": {},
   "outputs": [
    {
     "name": "stderr",
     "output_type": "stream",
     "text": [
      "Updating HTML index of packages in '.Library'\n",
      "Making 'packages.html' ... done\n"
     ]
    }
   ],
   "source": [
    "# Group by model & model features, summarize by quantity purchased\n",
    "install.packages('tidyr')\n",
    "library(tidyr)  # Needed for spread function"
   ]
  },
  {
   "cell_type": "code",
   "execution_count": 27,
   "metadata": {},
   "outputs": [],
   "source": [
    "customerTrends <- orders.extended %>%\n",
    "        group_by(bikeshop.name, model, category1, category2, frame, price) %>%\n",
    "        summarise(total.qty = sum(quantity)) %>%\n",
    "        spread(bikeshop.name, total.qty)\n",
    "customerTrends[is.na(customerTrends)] <- 0  # Remove NA's"
   ]
  },
  {
   "cell_type": "code",
   "execution_count": 29,
   "metadata": {},
   "outputs": [
    {
     "name": "stderr",
     "output_type": "stream",
     "text": [
      "also installing the dependencies ‘checkmate’, ‘htmlwidgets’, ‘rstudioapi’, ‘Formula’, ‘latticeExtra’, ‘cluster’, ‘acepack’, ‘foreign’, ‘gridExtra’, ‘htmlTable’, ‘viridis’\n",
      "\n",
      "Updating HTML index of packages in '.Library'\n",
      "Making 'packages.html' ... done\n",
      "Loading required package: lattice\n",
      "Loading required package: survival\n",
      "Loading required package: Formula\n",
      "Loading required package: ggplot2\n",
      "\n",
      "Attaching package: ‘Hmisc’\n",
      "\n",
      "The following objects are masked from ‘package:dplyr’:\n",
      "\n",
      "    src, summarize\n",
      "\n",
      "The following objects are masked from ‘package:base’:\n",
      "\n",
      "    format.pval, units\n",
      "\n"
     ]
    }
   ],
   "source": [
    "# Convert price to binary high/low category\n",
    "install.packages('Hmisc')\n",
    "library(Hmisc)  # Needed for cut2 function"
   ]
  },
  {
   "cell_type": "code",
   "execution_count": 30,
   "metadata": {},
   "outputs": [],
   "source": [
    "customerTrends$price <- cut2(customerTrends$price, g=2) "
   ]
  },
  {
   "cell_type": "code",
   "execution_count": 31,
   "metadata": {},
   "outputs": [],
   "source": [
    "# Convert customer purchase quantity to percentage of total quantity\n",
    "customerTrends.mat <- as.matrix(customerTrends[,-(1:5)])  # Drop first five columns\n",
    "customerTrends.mat <- prop.table(customerTrends.mat, margin = 2)  # column-wise pct\n",
    "customerTrends <- bind_cols(customerTrends[,1:5], as.data.frame(customerTrends.mat))"
   ]
  },
  {
   "cell_type": "code",
   "execution_count": 32,
   "metadata": {},
   "outputs": [
    {
     "data": {
      "text/plain": [
       "\n",
       "\n",
       "|model               |category1 |category2  |frame    |price        | Albuquerque Cycles| Ann Arbor Speed| Austin Cruisers| Cincinnati Speed| Columbus Race Equipment| Dallas Cycles| Denver Bike Shop| Detroit Cycles| Indianapolis Velocipedes| Ithaca Mountain Climbers| Kansas City 29ers| Las Vegas Cycles| Los Angeles Cycles| Louisville Race Equipment| Miami Race Equipment| Minneapolis Bike Shop| Nashville Cruisers| New Orleans Velocipedes| New York Cycles| Oklahoma City Race Equipment| Philadelphia Bike Shop| Phoenix Bi-peds| Pittsburgh Mountain Machines| Portland Bi-peds| Providence Bi-peds| San Antonio Bike Shop| San Francisco Cruisers| Seattle Race Equipment| Tampa 29ers| Wichita Speed|\n",
       "|:-------------------|:---------|:----------|:--------|:------------|------------------:|---------------:|---------------:|----------------:|-----------------------:|-------------:|----------------:|--------------:|------------------------:|------------------------:|-----------------:|----------------:|------------------:|-------------------------:|--------------------:|---------------------:|------------------:|-----------------------:|---------------:|----------------------------:|----------------------:|---------------:|----------------------------:|----------------:|------------------:|---------------------:|----------------------:|----------------------:|-----------:|-------------:|\n",
       "|Bad Habit 1         |Mountain  |Trail      |Aluminum |[ 415, 3500) |          0.0174825|       0.0066445|       0.0081301|        0.0051151|               0.0101523|     0.0128205|        0.0117340|      0.0099206|                0.0062696|                0.0181962|         0.0181504|        0.0016026|          0.0062893|                 0.0075949|            0.0042135|             0.0182648|          0.0086705|               0.0184783|       0.0074074|                    0.0129870|              0.0244898|       0.0112755|                    0.0159151|        0.0108696|          0.0092251|             0.0215054|              0.0026738|              0.0156250|   0.0194175|     0.0059172|\n",
       "|Bad Habit 2         |Mountain  |Trail      |Aluminum |[ 415, 3500) |          0.0069930|       0.0099668|       0.0040650|        0.0000000|               0.0000000|     0.0170940|        0.0139070|      0.0158730|                0.0031348|                0.0110759|         0.0158456|        0.0000000|          0.0094340|                 0.0000000|            0.0112360|             0.0167428|          0.0173410|               0.0021739|       0.0074074|                    0.0095238|              0.0040816|       0.0190275|                    0.0026525|        0.0108696|          0.0239852|             0.0000000|              0.0026738|              0.0078125|   0.0000000|     0.0000000|\n",
       "|Beast of the East 1 |Mountain  |Trail      |Aluminum |[ 415, 3500) |          0.0104895|       0.0149502|       0.0081301|        0.0000000|               0.0000000|     0.0042735|        0.0182529|      0.0119048|                0.0094044|                0.0213608|         0.0181504|        0.0016026|          0.0251572|                 0.0000000|            0.0140449|             0.0167428|          0.0086705|               0.0086957|       0.0172840|                    0.0242424|              0.0000000|       0.0126850|                    0.0053050|        0.0108696|          0.0092251|             0.0053763|              0.0000000|              0.0156250|   0.0097087|     0.0000000|\n",
       "|Beast of the East 2 |Mountain  |Trail      |Aluminum |[ 415, 3500) |          0.0104895|       0.0099668|       0.0081301|        0.0000000|               0.0050761|     0.0042735|        0.0152108|      0.0059524|                0.0094044|                0.0181962|         0.0138289|        0.0000000|          0.0220126|                 0.0050633|            0.0084270|             0.0076104|          0.0086705|               0.0097826|       0.0172840|                    0.0086580|              0.0000000|       0.0232558|                    0.0106101|        0.0155280|          0.0147601|             0.0107527|              0.0026738|              0.0234375|   0.0291262|     0.0019724|\n",
       "|Beast of the East 3 |Mountain  |Trail      |Aluminum |[ 415, 3500) |          0.0034965|       0.0033223|       0.0000000|        0.0000000|               0.0025381|     0.0042735|        0.0169492|      0.0119048|                0.0000000|                0.0102848|         0.0181504|        0.0032051|          0.0000000|                 0.0050633|            0.0042135|             0.0152207|          0.0202312|               0.0043478|       0.0049383|                    0.0051948|              0.0204082|       0.0162086|                    0.0026525|        0.0201863|          0.0073801|             0.0322581|              0.0000000|              0.0078125|   0.0097087|     0.0000000|\n",
       "|CAAD Disc Ultegra   |Road      |Elite Road |Aluminum |[ 415, 3500) |          0.0139860|       0.0265781|       0.0203252|        0.0153453|               0.0101523|     0.0000000|        0.0108648|      0.0079365|                0.0094044|                0.0000000|         0.0106598|        0.0112179|          0.0157233|                 0.0278481|            0.0210674|             0.0182648|          0.0375723|               0.0152174|       0.0172840|                    0.0103896|              0.0163265|       0.0126850|                    0.0026525|        0.0139752|          0.0073801|             0.0053763|              0.0026738|              0.0078125|   0.0000000|     0.0098619|"
      ]
     },
     "metadata": {},
     "output_type": "display_data"
    }
   ],
   "source": [
    "# View data post manipulation\n",
    "knitr::kable(head(customerTrends))"
   ]
  },
  {
   "cell_type": "code",
   "execution_count": 33,
   "metadata": {},
   "outputs": [
    {
     "name": "stderr",
     "output_type": "stream",
     "text": [
      "Updating HTML index of packages in '.Library'\n",
      "Making 'packages.html' ... done\n"
     ]
    }
   ],
   "source": [
    "# Running the k-means algorithm\n",
    "install.packages(\"cluster\") # Needed for silhouette function\n",
    "library(cluster)"
   ]
  },
  {
   "cell_type": "code",
   "execution_count": 35,
   "metadata": {},
   "outputs": [
    {
     "data": {},
     "metadata": {},
     "output_type": "display_data"
    },
    {
     "data": {
      "image/png": "[encoded data removed]",
      "text/plain": [
       "plot without title"
      ]
     },
     "metadata": {},
     "output_type": "display_data"
    }
   ],
   "source": [
    "kmeansDat <- customerTrends[,-(1:5)]  # Extract only customer columns\n",
    "kmeansDat.t <- t(kmeansDat)  # Get customers in rows and products in columns\n",
    "\n",
    "# Setup for k-means loop \n",
    "km.out <- list()\n",
    "sil.out <- list()\n",
    "x <- vector()\n",
    "y <- vector()\n",
    "minClust <- 4      # Hypothesized minimum number of segments\n",
    "maxClust <- 8      # Hypothesized maximum number of segments\n",
    "\n",
    "# Compute k-means clustering over various clusters, k, from minClust to maxClust\n",
    "for (centr in minClust:maxClust) {\n",
    "        i <- centr-(minClust-1) # relevels start as 1, and increases with centr\n",
    "        set.seed(11) # For reproducibility\n",
    "        km.out[i] <- list(kmeans(kmeansDat.t, centers = centr, nstart = 50))\n",
    "        sil.out[i] <- list(silhouette(km.out[[i]][[1]], dist(kmeansDat.t)))\n",
    "        # Used for plotting silhouette average widths\n",
    "        x[i] = centr  # value of k\n",
    "        y[i] = summary(sil.out[[i]])[[4]]  # Silhouette average width\n",
    "}\n",
    "#Next, we plot the silhouette average widths for the choice of clusters. The best cluster is the one with the largest silhouette average width, which turns out to be 5 clusters.\n",
    "\n",
    "# Plot silhouette results to find best number of clusters; closer to 1 is better\n",
    "library(ggplot2)\n",
    "ggplot(data = data.frame(x, y), aes(x, y)) + \n",
    "  geom_point(size=3) + \n",
    "  geom_line() +\n",
    "  xlab(\"Number of Cluster Centers\") +\n",
    "  ylab(\"Silhouette Average Width\") +\n",
    "  ggtitle(\"Silhouette Average Width as Cluster Center Varies\")"
   ]
  },
  {
   "cell_type": "code",
   "execution_count": null,
   "metadata": {},
   "outputs": [],
   "source": [
    "# Get customer names that are in each segment ----------------------------------\n",
    "\n",
    "# Get attributes of optimal k-means output\n",
    "maxSilRow <- which.max(y)          # Row number of max silhouette value\n",
    "optimalClusters <- x[maxSilRow]    # Number of clusters\n",
    "km.out.best <- km.out[[maxSilRow]] # k-means output of best cluster\n",
    "\n",
    "# Create list of customer names for each cluster\n",
    "clusterNames <- list()\n",
    "clusterList <- list()\n",
    "for (clustr in 1:optimalClusters) {\n",
    "  clusterNames[clustr] <- paste0(\"X\", clustr)\n",
    "  clusterList[clustr] <- list(\n",
    "    names(\n",
    "        km.out.best$cluster[km.out.best$cluster == clustr]\n",
    "        )\n",
    "    )\n",
    "}\n",
    "names(clusterList) <- clusterNames\n",
    "\n",
    "print(clusterList)"
   ]
  },
  {
   "cell_type": "code",
   "execution_count": null,
   "metadata": {},
   "outputs": [],
   "source": [
    "# Combine cluster centroids with bike models for feature inspection ------------\n",
    "custSegmentCntrs <- t(km.out.best$centers)  # Get centroids for groups\n",
    "colnames(custSegmentCntrs) <- make.names(colnames(custSegmentCntrs))\n",
    "customerTrends.clustered <- bind_cols(customerTrends[,1:5], as.data.frame(custSegmentCntrs))"
   ]
  },
  {
   "cell_type": "code",
   "execution_count": null,
   "metadata": {},
   "outputs": [],
   "source": [
    "# Arrange top 10 bike models by cluster in descending order --------------------\n",
    "attach(customerTrends.clustered)  # Allows ordering by column name\n",
    "knitr::kable(head(customerTrends.clustered[order(-X1), c(1:5, 6)], 10))"
   ]
  },
  {
   "cell_type": "code",
   "execution_count": null,
   "metadata": {},
   "outputs": [],
   "source": [
    "# Arrange top 10 bike models by cluster in descending order\n",
    "knitr::kable(head(customerTrends.clustered[order(-X2), c(1:5, 7)], 10))"
   ]
  },
  {
   "cell_type": "code",
   "execution_count": null,
   "metadata": {},
   "outputs": [],
   "source": [
    "detach(customerTrends.clustered)"
   ]
  },
  {
   "cell_type": "code",
   "execution_count": null,
   "metadata": {},
   "outputs": [],
   "source": []
  }
 ],
 "metadata": {
  "kernelspec": {
   "display_name": "R 3.4.4",
   "language": "R",
   "name": "ir33"
  },
  "language_info": {
   "codemirror_mode": "r",
   "file_extension": ".r",
   "mimetype": "text/x-r-source",
   "name": "R",
   "pygments_lexer": "r",
   "version": "3.5.0"
  }
 },
 "nbformat": 4,
 "nbformat_minor": 2
}
